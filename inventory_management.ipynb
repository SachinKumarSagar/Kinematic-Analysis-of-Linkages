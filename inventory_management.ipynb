{
  "nbformat": 4,
  "nbformat_minor": 0,
  "metadata": {
    "colab": {
      "provenance": [],
      "authorship_tag": "ABX9TyPssZ3UArWMK2LPgpVTK3ya",
      "include_colab_link": true
    },
    "kernelspec": {
      "name": "python3",
      "display_name": "Python 3"
    },
    "language_info": {
      "name": "python"
    }
  },
  "cells": [
    {
      "cell_type": "markdown",
      "metadata": {
        "id": "view-in-github",
        "colab_type": "text"
      },
      "source": [
        "<a href=\"https://colab.research.google.com/github/SachinKumarSagar/Kinematic-Analysis-of-Linkages/blob/main/inventory_management.ipynb\" target=\"_parent\"><img src=\"https://colab.research.google.com/assets/colab-badge.svg\" alt=\"Open In Colab\"/></a>"
      ]
    },
    {
      "cell_type": "markdown",
      "source": [
        "**PRODUCT** **DETAILS **\n",
        "1-PRODUCT ID\n",
        "2-PRODUCT NAME\n",
        "3-PRODUCT PRICE\n",
        "4-PRODUCT QUANTITY"
      ],
      "metadata": {
        "id": "6OWqn2PGWiqv"
      }
    },
    {
      "cell_type": "code",
      "source": [
        "fd = open('inventory.txt','w')\n",
        "fd.close()"
      ],
      "metadata": {
        "id": "meIoEpGugl3F"
      },
      "execution_count": 41,
      "outputs": []
    },
    {
      "cell_type": "code",
      "source": [
        "fd =open('sales.txt','w')\n",
        "fd.close()"
      ],
      "metadata": {
        "id": "G1vxfkUZ6BpA"
      },
      "execution_count": 67,
      "outputs": []
    },
    {
      "cell_type": "code",
      "source": [
        "#noting the time of transaction\n",
        "import time\n",
        "\n",
        "#reading the data from the inventory file\n",
        "fd = open('inventory.txt','r')\n",
        "products = fd.read().split('\\n')\n",
        "fd.close()\n",
        "\n",
        "\n",
        "\n",
        "\n",
        "#taking the user inputs\n",
        "ui_username = input(\"enter your name :\")\n",
        "ui_phoneNo =input(\"enter you phone no\")\n",
        "ui_email = input(\"enter your mail Id \")\n",
        "ui_prod_id=input(\"enter product id :\")\n",
        "ui_prod_qn=input(\"enter product quantity :\")\n",
        "\n",
        "updated_prod_list=[]\n",
        "\n",
        "#going through each product detail\n",
        "for product in products:\n",
        "  product_details = product.split(',')\n",
        "\n",
        "  #checking is product exists or not\n",
        "  if(product_details[0] == ui_prod_id):\n",
        "\n",
        "    #if we are having enough quantity\n",
        "    if(int(ui_prod_qn) <= int(product_details[3])):\n",
        "          print(\"-----------------------------------------\")\n",
        "          print(\"Price           :\",product_details[2])\n",
        "          print(\"Product Name    :\",product_details[1])\n",
        "          print(\"Quantity        :\",ui_prod_qn)\n",
        "          print(\"-----------------------------------------\")\n",
        "          print(\"Billing Amount  :\",int(ui_prod_qn)*int(product_details[2]) )\n",
        "          print(\"------------------------------------------\")\n",
        "\n",
        "          #updating inventory list\n",
        "          product_details[3]=str(int(product_details[3])-int(ui_prod_qn))\n",
        "\n",
        "          #generating sales in sales.txt\n",
        "          fd = open('sales.txt','a')\n",
        "          sales_details = ui_username + \",\" + ui_phoneNo + \",\" + ui_email + \",\" + product_details[1] +  \",\" + str(int(ui_prod_qn)*int(product_details[2])) + \",\" + time.ctime() +\"\\n\"\n",
        "          fd.write(sales_details)\n",
        "          fd.close()\n",
        "    else:\n",
        "\n",
        "      #if we are not having enough quantity\n",
        "      print(\"sorry,we are not having enough quantity\")\n",
        "      print(\"we are having only\", product_details[3], \"quantity\")\n",
        "      print(\"would you like to purchase it ?\")\n",
        "\n",
        "      ch = input(\"press Y/N :\")\n",
        "\n",
        "      if(ch =='Y' or ch == 'y'):\n",
        "        #if you want to purchase with remaining quantity\n",
        "        print(\"-----------------------------------------\")\n",
        "        print(\"Price           :\",product_details[2])\n",
        "        print(\"Product Name    :\",product_details[1])\n",
        "        print(\"Quantity        :\",product_details[3])\n",
        "        print(\"-----------------------------------------\")\n",
        "        print(\"Billing Amount  :\",int(product_details[3])*int(product_details[2]) )\n",
        "        print(\"------------------------------------------\")\n",
        "\n",
        "\n",
        "        #generating sales in sales.txt\n",
        "        fd = open('sales.txt','a')\n",
        "        sales_details = ui_username + \",\" + ui_phoneNo + \",\" + ui_email + \",\" + product_details[1] + \",\" + str(int(product_details[3])*int(product_details[2])) + \",\" + time.ctime() +\"\\n\"\n",
        "        fd.write(sales_details)\n",
        "        fd.close()\n",
        "\n",
        "        #updating inventory list\n",
        "        product_details[3]='0'\n",
        "\n",
        "  #updating my inventory list\n",
        "  updated_prod_list.append(product_details)\n",
        "\n",
        "\n",
        "\n",
        "\n",
        "\n",
        "\n",
        "\n",
        "\n",
        "lst = []\n",
        "\n",
        "#updating my inventory string\n",
        "for i in updated_prod_list:\n",
        "  prod = i[0] + \",\" + i[1] + \",\" + i[2] + \",\" + i[3] + '\\n'\n",
        "\n",
        "  lst.append(prod)\n",
        "\n",
        "#removing last \\n from last product\n",
        "lst[-1]=lst[-1][:-1]\n",
        "\n",
        "#updating inventory file\n",
        "fd=open('inventory.txt','w')\n",
        "for i in lst:\n",
        "  fd.write(i)\n",
        "\n",
        "fd.close()\n",
        "\n",
        "print(\"--------------------\")\n",
        "print(\"inventory updated\")"
      ],
      "metadata": {
        "colab": {
          "base_uri": "https://localhost:8080/"
        },
        "id": "Cyf3E8ySTnzO",
        "outputId": "f360f5a2-7a29-4553-d6c8-b099cedb6c28"
      },
      "execution_count": 75,
      "outputs": [
        {
          "output_type": "stream",
          "name": "stdout",
          "text": [
            "enter your name :n\n",
            "enter you phone no75\n",
            "enter your mail Id abcgmail\n",
            "enter product id :2\n",
            "enter product quantity :20\n",
            "-----------------------------------------\n",
            "Price           : 20\n",
            "Product Name    : candy\n",
            "Quantity        : 20\n",
            "-----------------------------------------\n",
            "Billing Amount  : 400\n",
            "------------------------------------------\n",
            "--------------------\n",
            "inventory updated\n"
          ]
        }
      ]
    }
  ]
}